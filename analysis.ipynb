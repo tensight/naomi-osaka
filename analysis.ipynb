{
 "cells": [
  {
   "cell_type": "markdown",
   "metadata": {},
   "source": [
    "# Naomi Osaka\n",
    "\n",
    "This code is a supplemental analysis to the story \"Composed Pioneer in a Sea of Voices: Naomi Osaka\" on [Tensight](https://medium.com/tensight): a story publication highlighting the incredible achievements of Asians in athletics, with a special emphasis on statistics.\n",
    "\n",
    "### Attribution\n",
    "\n",
    "Author: Alex Nakagawa [[Github](https://github.com/alexnakagawa)] [[Portfolio](https://alex.urspace.io/)]\n",
    "\n",
    "The data used for this analysis is from [Jeff Sackmann / Tennis Abstract](https://github.com/JeffSackmann/tennis_atp). Licensed under [Creative Commons Attribution-NonCommercial-ShareAlike 4.0 International License](http://creativecommons.org/licenses/by-nc-sa/4.0/) "
   ]
  },
  {
   "cell_type": "markdown",
   "metadata": {},
   "source": [
    "---"
   ]
  },
  {
   "cell_type": "code",
   "execution_count": 1,
   "metadata": {
    "ExecuteTime": {
     "end_time": "2020-01-04T05:25:47.897963Z",
     "start_time": "2020-01-04T05:25:45.141128Z"
    }
   },
   "outputs": [],
   "source": [
    "import sys\n",
    "import os\n",
    "import numpy as np\n",
    "import pandas as pd\n",
    "import seaborn as sns\n",
    "import matplotlib.pyplot as plt\n",
    "\n",
    "from scipy.stats import norm\n",
    "\n",
    "plt.style.use('fivethirtyeight')\n",
    "%matplotlib inline"
   ]
  },
  {
   "cell_type": "markdown",
   "metadata": {},
   "source": [
    "### I. Analysis"
   ]
  },
  {
   "cell_type": "markdown",
   "metadata": {},
   "source": [
    "First, cleaning the matches tables. The data pulled has an error of the alpha-3 codes from Switzerland and Croatia, so they are changed here."
   ]
  },
  {
   "cell_type": "code",
   "execution_count": 2,
   "metadata": {
    "ExecuteTime": {
     "end_time": "2020-01-04T05:25:49.139662Z",
     "start_time": "2020-01-04T05:25:47.900026Z"
    }
   },
   "outputs": [
    {
     "name": "stderr",
     "output_type": "stream",
     "text": [
      "/Library/Frameworks/Python.framework/Versions/3.7/lib/python3.7/site-packages/IPython/core/interactiveshell.py:3058: DtypeWarning: Columns (8,18) have mixed types. Specify dtype option on import or set low_memory=False.\n",
      "  interactivity=interactivity, compiler=compiler, result=result)\n"
     ]
    },
    {
     "data": {
      "text/plain": [
       "Index(['tourney_id', 'tourney_name', 'surface', 'draw_size', 'tourney_level',\n",
       "       'tourney_date', 'match_num', 'winner_id', 'winner_seed', 'winner_entry',\n",
       "       'winner_name', 'winner_hand', 'winner_ht', 'winner_ioc', 'winner_age',\n",
       "       'winner_rank', 'winner_rank_points', 'loser_id', 'loser_seed',\n",
       "       'loser_entry', 'loser_name', 'loser_hand', 'loser_ht', 'loser_ioc',\n",
       "       'loser_age', 'loser_rank', 'loser_rank_points', 'score', 'best_of',\n",
       "       'round', 'minutes', 'w_ace', 'w_df', 'w_svpt', 'w_1stIn', 'w_1stWon',\n",
       "       'w_2ndWon', 'w_SvGms', 'w_bpSaved', 'w_bpFaced', 'l_ace', 'l_df',\n",
       "       'l_svpt', 'l_1stIn', 'l_1stWon', 'l_2ndWon', 'l_SvGms', 'l_bpSaved',\n",
       "       'l_bpFaced'],\n",
       "      dtype='object')"
      ]
     },
     "execution_count": 2,
     "metadata": {},
     "output_type": "execute_result"
    }
   ],
   "source": [
    "dirname = os.getcwd()\n",
    "matches_2018 = pd.read_csv(dirname + '/data/tennis_wta/wta_matches_2018.csv', encoding = \"ISO-8859-1\")\n",
    "matches_2018.replace({'CRO':'HRV', 'SUI':'CHE'}, regex=True, inplace=True)\n",
    "matches_2019 = pd.read_csv(dirname + '/data/tennis_wta/wta_matches_2019.csv', encoding = \"ISO-8859-1\")\n",
    "matches_2019.replace({'CRO':'HRV', 'SUI':'CHE'}, regex=True, inplace=True)\n",
    "matches_2018.columns"
   ]
  },
  {
   "cell_type": "markdown",
   "metadata": {},
   "source": [
    "Here, I'm finding the games that Osaka won in the US Open and other tournaments in 2018 and 2019. I'm also changing the `tourney_date` column, which is currently a string, into a `datetime` object."
   ]
  },
  {
   "cell_type": "code",
   "execution_count": 3,
   "metadata": {
    "ExecuteTime": {
     "end_time": "2020-01-04T05:25:49.204540Z",
     "start_time": "2020-01-04T05:25:49.145270Z"
    }
   },
   "outputs": [
    {
     "name": "stderr",
     "output_type": "stream",
     "text": [
      "/Library/Frameworks/Python.framework/Versions/3.7/lib/python3.7/site-packages/ipykernel_launcher.py:5: SettingWithCopyWarning: \n",
      "A value is trying to be set on a copy of a slice from a DataFrame.\n",
      "Try using .loc[row_indexer,col_indexer] = value instead\n",
      "\n",
      "See the caveats in the documentation: http://pandas.pydata.org/pandas-docs/stable/user_guide/indexing.html#returning-a-view-versus-a-copy\n",
      "  \"\"\"\n"
     ]
    }
   ],
   "source": [
    "total_2018_2019 = matches_2018.append(matches_2019, ignore_index=True)\n",
    "\n",
    "osaka_usopen_2018 = matches_2018[(matches_2018['tourney_name']=='US Open') \n",
    "                            & (matches_2018['winner_name']=='Naomi Osaka')]\n",
    "osaka_usopen_2018['tourney_date'] = pd.to_datetime(osaka_usopen_2018.tourney_date, format='%Y%m%d')\n",
    "\n",
    "osaka_total_2018_2019 = total_2018_2019[(total_2018_2019['winner_name']=='Naomi Osaka') |\n",
    "                (total_2018_2019['loser_name']=='Naomi Osaka')]\n",
    "osaka_total_2018_2019['tourney_date'] = pd.to_datetime(osaka_total_2018_2019.tourney_date,\n",
    "                                                            format='%Y%m%d')"
   ]
  },
  {
   "cell_type": "markdown",
   "metadata": {},
   "source": [
    "Seeing Osaka's journey to the finals of the 2018 US Open."
   ]
  },
  {
   "cell_type": "code",
   "execution_count": 4,
   "metadata": {
    "ExecuteTime": {
     "end_time": "2020-01-04T05:25:49.241186Z",
     "start_time": "2020-01-04T05:25:49.210990Z"
    },
    "scrolled": true
   },
   "outputs": [
    {
     "data": {
      "text/html": [
       "<div>\n",
       "<style scoped>\n",
       "    .dataframe tbody tr th:only-of-type {\n",
       "        vertical-align: middle;\n",
       "    }\n",
       "\n",
       "    .dataframe tbody tr th {\n",
       "        vertical-align: top;\n",
       "    }\n",
       "\n",
       "    .dataframe thead th {\n",
       "        text-align: right;\n",
       "    }\n",
       "</style>\n",
       "<table border=\"1\" class=\"dataframe\">\n",
       "  <thead>\n",
       "    <tr style=\"text-align: right;\">\n",
       "      <th></th>\n",
       "      <th>tourney_name</th>\n",
       "      <th>tourney_date</th>\n",
       "      <th>score</th>\n",
       "      <th>winner_ioc</th>\n",
       "      <th>winner_name</th>\n",
       "      <th>winner_rank</th>\n",
       "      <th>winner_seed</th>\n",
       "      <th>loser_ioc</th>\n",
       "      <th>loser_name</th>\n",
       "      <th>loser_rank</th>\n",
       "      <th>loser_seed</th>\n",
       "    </tr>\n",
       "  </thead>\n",
       "  <tbody>\n",
       "    <tr>\n",
       "      <th>2071</th>\n",
       "      <td>US Open</td>\n",
       "      <td>2018-08-27</td>\n",
       "      <td>6-3 6-2</td>\n",
       "      <td>JPN</td>\n",
       "      <td>Naomi Osaka</td>\n",
       "      <td>19.0</td>\n",
       "      <td>20.0</td>\n",
       "      <td>GER</td>\n",
       "      <td>Laura Siegemund</td>\n",
       "      <td>146.0</td>\n",
       "      <td>NaN</td>\n",
       "    </tr>\n",
       "    <tr>\n",
       "      <th>2109</th>\n",
       "      <td>US Open</td>\n",
       "      <td>2018-08-27</td>\n",
       "      <td>6-2 6-0</td>\n",
       "      <td>JPN</td>\n",
       "      <td>Naomi Osaka</td>\n",
       "      <td>19.0</td>\n",
       "      <td>20.0</td>\n",
       "      <td>ISR</td>\n",
       "      <td>Julia Glushko</td>\n",
       "      <td>162.0</td>\n",
       "      <td>NaN</td>\n",
       "    </tr>\n",
       "    <tr>\n",
       "      <th>2128</th>\n",
       "      <td>US Open</td>\n",
       "      <td>2018-08-27</td>\n",
       "      <td>6-0 6-0</td>\n",
       "      <td>JPN</td>\n",
       "      <td>Naomi Osaka</td>\n",
       "      <td>19.0</td>\n",
       "      <td>20.0</td>\n",
       "      <td>BLR</td>\n",
       "      <td>Aliaksandra Sasnovich</td>\n",
       "      <td>33.0</td>\n",
       "      <td>NaN</td>\n",
       "    </tr>\n",
       "    <tr>\n",
       "      <th>2137</th>\n",
       "      <td>US Open</td>\n",
       "      <td>2018-08-27</td>\n",
       "      <td>6-3 2-6 6-4</td>\n",
       "      <td>JPN</td>\n",
       "      <td>Naomi Osaka</td>\n",
       "      <td>19.0</td>\n",
       "      <td>20.0</td>\n",
       "      <td>BLR</td>\n",
       "      <td>Aryna Sabalenka</td>\n",
       "      <td>20.0</td>\n",
       "      <td>26.0</td>\n",
       "    </tr>\n",
       "    <tr>\n",
       "      <th>2142</th>\n",
       "      <td>US Open</td>\n",
       "      <td>2018-08-27</td>\n",
       "      <td>6-1 6-1</td>\n",
       "      <td>JPN</td>\n",
       "      <td>Naomi Osaka</td>\n",
       "      <td>19.0</td>\n",
       "      <td>20.0</td>\n",
       "      <td>UKR</td>\n",
       "      <td>Lesia Tsurenko</td>\n",
       "      <td>36.0</td>\n",
       "      <td>NaN</td>\n",
       "    </tr>\n",
       "    <tr>\n",
       "      <th>2144</th>\n",
       "      <td>US Open</td>\n",
       "      <td>2018-08-27</td>\n",
       "      <td>6-2 6-4</td>\n",
       "      <td>JPN</td>\n",
       "      <td>Naomi Osaka</td>\n",
       "      <td>19.0</td>\n",
       "      <td>20.0</td>\n",
       "      <td>USA</td>\n",
       "      <td>Madison Keys</td>\n",
       "      <td>14.0</td>\n",
       "      <td>14.0</td>\n",
       "    </tr>\n",
       "    <tr>\n",
       "      <th>2145</th>\n",
       "      <td>US Open</td>\n",
       "      <td>2018-08-27</td>\n",
       "      <td>6-2 6-4</td>\n",
       "      <td>JPN</td>\n",
       "      <td>Naomi Osaka</td>\n",
       "      <td>19.0</td>\n",
       "      <td>20.0</td>\n",
       "      <td>USA</td>\n",
       "      <td>Serena Williams</td>\n",
       "      <td>26.0</td>\n",
       "      <td>17.0</td>\n",
       "    </tr>\n",
       "  </tbody>\n",
       "</table>\n",
       "</div>"
      ],
      "text/plain": [
       "     tourney_name tourney_date        score winner_ioc  winner_name  \\\n",
       "2071      US Open   2018-08-27      6-3 6-2        JPN  Naomi Osaka   \n",
       "2109      US Open   2018-08-27      6-2 6-0        JPN  Naomi Osaka   \n",
       "2128      US Open   2018-08-27      6-0 6-0        JPN  Naomi Osaka   \n",
       "2137      US Open   2018-08-27  6-3 2-6 6-4        JPN  Naomi Osaka   \n",
       "2142      US Open   2018-08-27      6-1 6-1        JPN  Naomi Osaka   \n",
       "2144      US Open   2018-08-27      6-2 6-4        JPN  Naomi Osaka   \n",
       "2145      US Open   2018-08-27      6-2 6-4        JPN  Naomi Osaka   \n",
       "\n",
       "      winner_rank  winner_seed loser_ioc             loser_name  loser_rank  \\\n",
       "2071         19.0         20.0       GER        Laura Siegemund       146.0   \n",
       "2109         19.0         20.0       ISR          Julia Glushko       162.0   \n",
       "2128         19.0         20.0       BLR  Aliaksandra Sasnovich        33.0   \n",
       "2137         19.0         20.0       BLR        Aryna Sabalenka        20.0   \n",
       "2142         19.0         20.0       UKR         Lesia Tsurenko        36.0   \n",
       "2144         19.0         20.0       USA           Madison Keys        14.0   \n",
       "2145         19.0         20.0       USA        Serena Williams        26.0   \n",
       "\n",
       "      loser_seed  \n",
       "2071         NaN  \n",
       "2109         NaN  \n",
       "2128         NaN  \n",
       "2137        26.0  \n",
       "2142         NaN  \n",
       "2144        14.0  \n",
       "2145        17.0  "
      ]
     },
     "execution_count": 4,
     "metadata": {},
     "output_type": "execute_result"
    }
   ],
   "source": [
    "cols = ['tourney_name', 'tourney_date', 'score', 'winner_ioc', 'winner_name', 'winner_rank',\n",
    "        'winner_seed', 'loser_ioc', 'loser_name', 'loser_rank', 'loser_seed']\n",
    "osaka_usopen_2018.loc[:, cols]"
   ]
  },
  {
   "cell_type": "markdown",
   "metadata": {},
   "source": [
    "Exploring Osaka's record since the US Open championship."
   ]
  },
  {
   "cell_type": "code",
   "execution_count": 5,
   "metadata": {
    "ExecuteTime": {
     "end_time": "2020-01-04T05:25:49.262362Z",
     "start_time": "2020-01-04T05:25:49.245727Z"
    },
    "scrolled": false
   },
   "outputs": [
    {
     "name": "stdout",
     "output_type": "stream",
     "text": [
      "Record since the 2018 US Open: 47W-18L\n"
     ]
    },
    {
     "name": "stderr",
     "output_type": "stream",
     "text": [
      "/Library/Frameworks/Python.framework/Versions/3.7/lib/python3.7/site-packages/ipykernel_launcher.py:3: FutureWarning: Comparing Series of datetimes with 'datetime.date'.  Currently, the\n",
      "'datetime.date' is coerced to a datetime. In the future pandas will\n",
      "not coerce, and a TypeError will be raised. To retain the current\n",
      "behavior, convert the 'datetime.date' to a datetime with\n",
      "'pd.Timestamp'.\n",
      "  This is separate from the ipykernel package so we can avoid doing imports until\n"
     ]
    }
   ],
   "source": [
    "import datetime as dt\n",
    "osaka_after_usopen_2018 = osaka_total_2018_2019[osaka_total_2018_2019[ \n",
    "                                                'tourney_date']>dt.date(2018,8,27)]\n",
    "osaka_wins = np.count_nonzero(osaka_after_usopen_2018['winner_name']=='Naomi Osaka')\n",
    "osaka_losses = np.count_nonzero(osaka_after_usopen_2018['loser_name']=='Naomi Osaka')\n",
    "print('Record since the 2018 US Open: {}W-{}L'.format(osaka_wins, osaka_losses))"
   ]
  },
  {
   "cell_type": "code",
   "execution_count": 6,
   "metadata": {
    "ExecuteTime": {
     "end_time": "2020-01-04T05:25:49.596899Z",
     "start_time": "2020-01-04T05:25:49.267229Z"
    }
   },
   "outputs": [],
   "source": [
    "rankings_cols = ['ranking_date', 'ranking', 'player_id', 'ranking_points', 'tours']\n",
    "rankings_current = pd.read_csv(dirname + '/data/tennis_wta/wta_rankings_current.csv',\n",
    "                               names = rankings_cols, index_col=False,\n",
    "                               encoding = \"ISO-8859-1\", header=None)\n",
    "\n",
    "players_cols = ['player_id', 'first_name', 'last_name', 'hand', 'birth_date', 'country_code']\n",
    "players = pd.read_csv(dirname + '/data/tennis_wta/wta_players.csv',\n",
    "                      names = players_cols, index_col=False,\n",
    "                      encoding = \"ISO-8859-1\", header=None)\n",
    "players.replace({'CRO':'HRV', 'SUI':'CHE'}, regex=True, inplace=True)\n",
    "players.drop(axis=0, index=0, inplace=True)\n",
    "players.reset_index(drop=True, inplace=True)"
   ]
  },
  {
   "cell_type": "code",
   "execution_count": 7,
   "metadata": {
    "ExecuteTime": {
     "end_time": "2020-01-04T05:25:49.666436Z",
     "start_time": "2020-01-04T05:25:49.599073Z"
    }
   },
   "outputs": [
    {
     "name": "stdout",
     "output_type": "stream",
     "text": [
      "Number of players from Asia: 3456\n"
     ]
    },
    {
     "data": {
      "text/html": [
       "<div>\n",
       "<style scoped>\n",
       "    .dataframe tbody tr th:only-of-type {\n",
       "        vertical-align: middle;\n",
       "    }\n",
       "\n",
       "    .dataframe tbody tr th {\n",
       "        vertical-align: top;\n",
       "    }\n",
       "\n",
       "    .dataframe thead th {\n",
       "        text-align: right;\n",
       "    }\n",
       "</style>\n",
       "<table border=\"1\" class=\"dataframe\">\n",
       "  <thead>\n",
       "    <tr style=\"text-align: right;\">\n",
       "      <th></th>\n",
       "      <th>player_id</th>\n",
       "      <th>first_name</th>\n",
       "      <th>last_name</th>\n",
       "      <th>hand</th>\n",
       "      <th>birth_date</th>\n",
       "      <th>country_code</th>\n",
       "      <th>name</th>\n",
       "      <th>alpha-2</th>\n",
       "      <th>alpha-3</th>\n",
       "      <th>country-code</th>\n",
       "      <th>iso_3166-2</th>\n",
       "      <th>region</th>\n",
       "      <th>sub-region</th>\n",
       "    </tr>\n",
       "  </thead>\n",
       "  <tbody>\n",
       "    <tr>\n",
       "      <th>84</th>\n",
       "      <td>200085</td>\n",
       "      <td>Ai</td>\n",
       "      <td>Sugiyama</td>\n",
       "      <td>R</td>\n",
       "      <td>19750705.0</td>\n",
       "      <td>JPN</td>\n",
       "      <td>Japan</td>\n",
       "      <td>JP</td>\n",
       "      <td>JPN</td>\n",
       "      <td>392.0</td>\n",
       "      <td>ISO 3166-2:JP</td>\n",
       "      <td>Asia</td>\n",
       "      <td>Eastern Asia</td>\n",
       "    </tr>\n",
       "    <tr>\n",
       "      <th>250</th>\n",
       "      <td>200251</td>\n",
       "      <td>Kazuko</td>\n",
       "      <td>Sawamatsu</td>\n",
       "      <td>U</td>\n",
       "      <td>19510105.0</td>\n",
       "      <td>JPN</td>\n",
       "      <td>Japan</td>\n",
       "      <td>JP</td>\n",
       "      <td>JPN</td>\n",
       "      <td>392.0</td>\n",
       "      <td>ISO 3166-2:JP</td>\n",
       "      <td>Asia</td>\n",
       "      <td>Eastern Asia</td>\n",
       "    </tr>\n",
       "    <tr>\n",
       "      <th>252</th>\n",
       "      <td>200253</td>\n",
       "      <td>Kiyoko</td>\n",
       "      <td>Nomura</td>\n",
       "      <td>U</td>\n",
       "      <td>19541117.0</td>\n",
       "      <td>JPN</td>\n",
       "      <td>Japan</td>\n",
       "      <td>JP</td>\n",
       "      <td>JPN</td>\n",
       "      <td>392.0</td>\n",
       "      <td>ISO 3166-2:JP</td>\n",
       "      <td>Asia</td>\n",
       "      <td>Eastern Asia</td>\n",
       "    </tr>\n",
       "    <tr>\n",
       "      <th>260</th>\n",
       "      <td>200261</td>\n",
       "      <td>Toshiko</td>\n",
       "      <td>Sade</td>\n",
       "      <td>U</td>\n",
       "      <td>19470308.0</td>\n",
       "      <td>JPN</td>\n",
       "      <td>Japan</td>\n",
       "      <td>JP</td>\n",
       "      <td>JPN</td>\n",
       "      <td>392.0</td>\n",
       "      <td>ISO 3166-2:JP</td>\n",
       "      <td>Asia</td>\n",
       "      <td>Eastern Asia</td>\n",
       "    </tr>\n",
       "    <tr>\n",
       "      <th>286</th>\n",
       "      <td>200287</td>\n",
       "      <td>Miki</td>\n",
       "      <td>Yokobori</td>\n",
       "      <td>U</td>\n",
       "      <td>NaN</td>\n",
       "      <td>JPN</td>\n",
       "      <td>Japan</td>\n",
       "      <td>JP</td>\n",
       "      <td>JPN</td>\n",
       "      <td>392.0</td>\n",
       "      <td>ISO 3166-2:JP</td>\n",
       "      <td>Asia</td>\n",
       "      <td>Eastern Asia</td>\n",
       "    </tr>\n",
       "    <tr>\n",
       "      <th>...</th>\n",
       "      <td>...</td>\n",
       "      <td>...</td>\n",
       "      <td>...</td>\n",
       "      <td>...</td>\n",
       "      <td>...</td>\n",
       "      <td>...</td>\n",
       "      <td>...</td>\n",
       "      <td>...</td>\n",
       "      <td>...</td>\n",
       "      <td>...</td>\n",
       "      <td>...</td>\n",
       "      <td>...</td>\n",
       "      <td>...</td>\n",
       "    </tr>\n",
       "    <tr>\n",
       "      <th>22799</th>\n",
       "      <td>222810</td>\n",
       "      <td>Natsumi</td>\n",
       "      <td>Nakadate</td>\n",
       "      <td>U</td>\n",
       "      <td>NaN</td>\n",
       "      <td>JPN</td>\n",
       "      <td>Japan</td>\n",
       "      <td>JP</td>\n",
       "      <td>JPN</td>\n",
       "      <td>392.0</td>\n",
       "      <td>ISO 3166-2:JP</td>\n",
       "      <td>Asia</td>\n",
       "      <td>Eastern Asia</td>\n",
       "    </tr>\n",
       "    <tr>\n",
       "      <th>22800</th>\n",
       "      <td>222811</td>\n",
       "      <td>Yui</td>\n",
       "      <td>Kondo</td>\n",
       "      <td>U</td>\n",
       "      <td>NaN</td>\n",
       "      <td>JPN</td>\n",
       "      <td>Japan</td>\n",
       "      <td>JP</td>\n",
       "      <td>JPN</td>\n",
       "      <td>392.0</td>\n",
       "      <td>ISO 3166-2:JP</td>\n",
       "      <td>Asia</td>\n",
       "      <td>Eastern Asia</td>\n",
       "    </tr>\n",
       "    <tr>\n",
       "      <th>22801</th>\n",
       "      <td>222812</td>\n",
       "      <td>Suzura</td>\n",
       "      <td>Takaoka</td>\n",
       "      <td>U</td>\n",
       "      <td>NaN</td>\n",
       "      <td>JPN</td>\n",
       "      <td>Japan</td>\n",
       "      <td>JP</td>\n",
       "      <td>JPN</td>\n",
       "      <td>392.0</td>\n",
       "      <td>ISO 3166-2:JP</td>\n",
       "      <td>Asia</td>\n",
       "      <td>Eastern Asia</td>\n",
       "    </tr>\n",
       "    <tr>\n",
       "      <th>22802</th>\n",
       "      <td>222813</td>\n",
       "      <td>Satsuki</td>\n",
       "      <td>Ito</td>\n",
       "      <td>U</td>\n",
       "      <td>NaN</td>\n",
       "      <td>JPN</td>\n",
       "      <td>Japan</td>\n",
       "      <td>JP</td>\n",
       "      <td>JPN</td>\n",
       "      <td>392.0</td>\n",
       "      <td>ISO 3166-2:JP</td>\n",
       "      <td>Asia</td>\n",
       "      <td>Eastern Asia</td>\n",
       "    </tr>\n",
       "    <tr>\n",
       "      <th>22803</th>\n",
       "      <td>222814</td>\n",
       "      <td>Mai</td>\n",
       "      <td>Fujimoto</td>\n",
       "      <td>U</td>\n",
       "      <td>NaN</td>\n",
       "      <td>JPN</td>\n",
       "      <td>Japan</td>\n",
       "      <td>JP</td>\n",
       "      <td>JPN</td>\n",
       "      <td>392.0</td>\n",
       "      <td>ISO 3166-2:JP</td>\n",
       "      <td>Asia</td>\n",
       "      <td>Eastern Asia</td>\n",
       "    </tr>\n",
       "  </tbody>\n",
       "</table>\n",
       "<p>905 rows × 13 columns</p>\n",
       "</div>"
      ],
      "text/plain": [
       "       player_id first_name  last_name hand  birth_date country_code   name  \\\n",
       "84        200085         Ai   Sugiyama    R  19750705.0          JPN  Japan   \n",
       "250       200251     Kazuko  Sawamatsu    U  19510105.0          JPN  Japan   \n",
       "252       200253     Kiyoko     Nomura    U  19541117.0          JPN  Japan   \n",
       "260       200261    Toshiko       Sade    U  19470308.0          JPN  Japan   \n",
       "286       200287       Miki   Yokobori    U         NaN          JPN  Japan   \n",
       "...          ...        ...        ...  ...         ...          ...    ...   \n",
       "22799     222810    Natsumi   Nakadate    U         NaN          JPN  Japan   \n",
       "22800     222811        Yui      Kondo    U         NaN          JPN  Japan   \n",
       "22801     222812     Suzura    Takaoka    U         NaN          JPN  Japan   \n",
       "22802     222813    Satsuki        Ito    U         NaN          JPN  Japan   \n",
       "22803     222814        Mai   Fujimoto    U         NaN          JPN  Japan   \n",
       "\n",
       "      alpha-2 alpha-3  country-code     iso_3166-2 region    sub-region  \n",
       "84         JP     JPN         392.0  ISO 3166-2:JP   Asia  Eastern Asia  \n",
       "250        JP     JPN         392.0  ISO 3166-2:JP   Asia  Eastern Asia  \n",
       "252        JP     JPN         392.0  ISO 3166-2:JP   Asia  Eastern Asia  \n",
       "260        JP     JPN         392.0  ISO 3166-2:JP   Asia  Eastern Asia  \n",
       "286        JP     JPN         392.0  ISO 3166-2:JP   Asia  Eastern Asia  \n",
       "...       ...     ...           ...            ...    ...           ...  \n",
       "22799      JP     JPN         392.0  ISO 3166-2:JP   Asia  Eastern Asia  \n",
       "22800      JP     JPN         392.0  ISO 3166-2:JP   Asia  Eastern Asia  \n",
       "22801      JP     JPN         392.0  ISO 3166-2:JP   Asia  Eastern Asia  \n",
       "22802      JP     JPN         392.0  ISO 3166-2:JP   Asia  Eastern Asia  \n",
       "22803      JP     JPN         392.0  ISO 3166-2:JP   Asia  Eastern Asia  \n",
       "\n",
       "[905 rows x 13 columns]"
      ]
     },
     "execution_count": 7,
     "metadata": {},
     "output_type": "execute_result"
    }
   ],
   "source": [
    "countries_codes_and_coordinates = pd.read_csv(dirname + '/data/countries.csv',\n",
    "                      encoding = \"ISO-8859-1\")\n",
    "players_and_region = pd.merge(players, countries_codes_and_coordinates,\n",
    "                              left_on='country_code', right_on='alpha-3',\n",
    "                              how='left')\n",
    "players_and_region = players_and_region.iloc[:,:-4]\n",
    "asian_players = players_and_region[players_and_region['region']=='Asia']\n",
    "print('Number of players from Asia: {}'.format(len(asian_players)))\n",
    "japanese_players = asian_players[asian_players['country_code']=='JPN']\n",
    "japanese_players"
   ]
  },
  {
   "cell_type": "markdown",
   "metadata": {},
   "source": [
    "## II. Visualizations"
   ]
  },
  {
   "cell_type": "code",
   "execution_count": 9,
   "metadata": {
    "ExecuteTime": {
     "end_time": "2020-01-04T05:34:13.159809Z",
     "start_time": "2020-01-04T05:34:12.805342Z"
    }
   },
   "outputs": [
    {
     "name": "stderr",
     "output_type": "stream",
     "text": [
      "/Library/Frameworks/Python.framework/Versions/3.7/lib/python3.7/site-packages/ipykernel_launcher.py:2: SettingWithCopyWarning: \n",
      "A value is trying to be set on a copy of a slice from a DataFrame.\n",
      "Try using .loc[row_indexer,col_indexer] = value instead\n",
      "\n",
      "See the caveats in the documentation: http://pandas.pydata.org/pandas-docs/stable/user_guide/indexing.html#returning-a-view-versus-a-copy\n",
      "  \n"
     ]
    },
    {
     "data": {
      "image/png": "[encoded data removed]",
      "text/plain": [
       "<Figure size 504x288 with 1 Axes>"
      ]
     },
     "metadata": {
      "needs_background": "light"
     },
     "output_type": "display_data"
    }
   ],
   "source": [
    "fig1, ax = plt.subplots(figsize=(7, 4))\n",
    "osaka_usopen_2018['loser_and_rank'] = osaka_usopen_2018['loser_rank']\n",
    "sns.barplot(x='loser_name', y='minutes', data=osaka_usopen_2018, color=\"salmon\", saturation=.5)\n",
    "sns.set(style=\"whitegrid\")\n",
    "plt.xticks(rotation=45)\n",
    "plt.setp(ax.xaxis.get_majorticklabels(), ha='right') # re-aligning the x-axis\n",
    "plt.title('US Open 2018: Naomi Osaka vs.')\n",
    "plt.tight_layout()\n",
    "fig1.savefig(dirname + \"/output/osaka_usopen_duration.png\");"
   ]
  },
  {
   "cell_type": "markdown",
   "metadata": {},
   "source": [
    "### License: MIT License\n",
    "Copyright 2019 Tensight\n",
    "\n",
    "Permission is hereby granted, free of charge, to any person obtaining a copy of this software and associated documentation files (the \"Software\"), to deal in the Software without restriction, including without limitation the rights to use, copy, modify, merge, publish, distribute, sublicense, and/or sell copies of the Software, and to permit persons to whom the Software is furnished to do so, subject to the following conditions:\n",
    "\n",
    "The above copyright notice and this permission notice shall be included in all copies or substantial portions of the Software.\n",
    "\n",
    "THE SOFTWARE IS PROVIDED \"AS IS\", WITHOUT WARRANTY OF ANY KIND, EXPRESS OR IMPLIED, INCLUDING BUT NOT LIMITED TO THE WARRANTIES OF MERCHANTABILITY, FITNESS FOR A PARTICULAR PURPOSE AND NONINFRINGEMENT. IN NO EVENT SHALL THE AUTHORS OR COPYRIGHT HOLDERS BE LIABLE FOR ANY CLAIM, DAMAGES OR OTHER LIABILITY, WHETHER IN AN ACTION OF CONTRACT, TORT OR OTHERWISE, ARISING FROM, OUT OF OR IN CONNECTION WITH THE SOFTWARE OR THE USE OR OTHER DEALINGS IN THE SOFTWARE.\n"
   ]
  }
 ],
 "metadata": {
  "file_extension": ".py",
  "kernelspec": {
   "display_name": "Python 3",
   "language": "python",
   "name": "python3"
  },
  "language_info": {
   "codemirror_mode": {
    "name": "ipython",
    "version": 3
   },
   "file_extension": ".py",
   "mimetype": "text/x-python",
   "name": "python",
   "nbconvert_exporter": "python",
   "pygments_lexer": "ipython3",
   "version": "3.7.0"
  },
  "mimetype": "text/x-python",
  "name": "python",
  "npconvert_exporter": "python",
  "pygments_lexer": "ipython3",
  "version": 3
 },
 "nbformat": 4,
 "nbformat_minor": 2
}
