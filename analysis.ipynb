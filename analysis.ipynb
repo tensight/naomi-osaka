{
 "nbformat": 4,
 "nbformat_minor": 2,
 "metadata": {
  "language_info": {
   "name": "python",
   "codemirror_mode": {
    "name": "ipython",
    "version": 3
   },
   "version": "3.7.0"
  },
  "orig_nbformat": 2,
  "file_extension": ".py",
  "mimetype": "text/x-python",
  "name": "python",
  "npconvert_exporter": "python",
  "pygments_lexer": "ipython3",
  "version": 3
 },
 "cells": [
  {
   "cell_type": "code",
   "execution_count": 1,
   "metadata": {},
   "outputs": [],
   "source": [
    "import numpy as np\n",
    "import pandas as pd\n",
    "import seaborn as sns\n",
    "import matplotlib.pyplot as plt\n",
    "\n",
    "from scipy.stats import norm\n",
    "%matplotlib inline"
   ]
  },
  {
   "cell_type": "code",
   "execution_count": 3,
   "metadata": {},
   "outputs": [],
   "source": [
    "matches = pd.read_csv('./naomi-osaka/data/matches.csv', encoding = \"ISO-8859-1\")\n",
    "players = pd.read_csv('./naomi-osaka/data/players.csv', encoding = \"ISO-8859-1\")\n",
    "qualifying_matches = pd.read_csv('./naomi-osaka/data/qualifying_matches.csv', encoding = \"ISO-8859-1\")\n",
    "rankings = pd.read_csv('./naomi-osaka/data/rankings.csv', encoding = \"ISO-8859-1\")"
   ]
  },
  {
   "cell_type": "code",
   "execution_count": 4,
   "metadata": {},
   "outputs": [
    {
     "data": {
      "text/html": "<div>\n<style scoped>\n    .dataframe tbody tr th:only-of-type {\n        vertical-align: middle;\n    }\n\n    .dataframe tbody tr th {\n        vertical-align: top;\n    }\n\n    .dataframe thead th {\n        text-align: right;\n    }\n</style>\n<table border=\"1\" class=\"dataframe\">\n  <thead>\n    <tr style=\"text-align: right;\">\n      <th></th>\n      <th>best_of</th>\n      <th>draw_size</th>\n      <th>loser_age</th>\n      <th>loser_entry</th>\n      <th>loser_hand</th>\n      <th>loser_ht</th>\n      <th>loser_id</th>\n      <th>loser_ioc</th>\n      <th>loser_name</th>\n      <th>loser_rank</th>\n      <th>...</th>\n      <th>winner_hand</th>\n      <th>winner_ht</th>\n      <th>winner_id</th>\n      <th>winner_ioc</th>\n      <th>winner_name</th>\n      <th>winner_rank</th>\n      <th>winner_rank_points</th>\n      <th>winner_seed</th>\n      <th>year</th>\n      <th>Unnamed: 32</th>\n    </tr>\n  </thead>\n  <tbody>\n    <tr>\n      <th>0</th>\n      <td>3</td>\n      <td>128</td>\n      <td>17.859001</td>\n      <td>NaN</td>\n      <td>R</td>\n      <td>NaN</td>\n      <td>200002</td>\n      <td>CRO</td>\n      <td>Mirjana Lucic</td>\n      <td>49.0</td>\n      <td>...</td>\n      <td>R</td>\n      <td>170.0</td>\n      <td>200001.0</td>\n      <td>SUI</td>\n      <td>Martina Hingis</td>\n      <td>1.0</td>\n      <td>6003.0</td>\n      <td>1</td>\n      <td>2000.0</td>\n      <td>NaN</td>\n    </tr>\n    <tr>\n      <th>1</th>\n      <td>3</td>\n      <td>128</td>\n      <td>27.118412</td>\n      <td>Q</td>\n      <td>R</td>\n      <td>NaN</td>\n      <td>200004</td>\n      <td>AUS</td>\n      <td>Kerry Anne Guse</td>\n      <td>133.0</td>\n      <td>...</td>\n      <td>R</td>\n      <td>167.0</td>\n      <td>200003.0</td>\n      <td>BEL</td>\n      <td>Justine Henin</td>\n      <td>63.0</td>\n      <td>510.0</td>\n      <td>NaN</td>\n      <td>2000.0</td>\n      <td>NaN</td>\n    </tr>\n    <tr>\n      <th>2</th>\n      <td>3</td>\n      <td>128</td>\n      <td>31.378508</td>\n      <td>NaN</td>\n      <td>R</td>\n      <td>NaN</td>\n      <td>200005</td>\n      <td>USA</td>\n      <td>Jolene Watanabe Giltz</td>\n      <td>118.0</td>\n      <td>...</td>\n      <td>R</td>\n      <td>NaN</td>\n      <td>200006.0</td>\n      <td>SVK</td>\n      <td>Karina Habsudova</td>\n      <td>53.0</td>\n      <td>574.0</td>\n      <td>NaN</td>\n      <td>2000.0</td>\n      <td>NaN</td>\n    </tr>\n    <tr>\n      <th>3</th>\n      <td>3</td>\n      <td>128</td>\n      <td>22.006845</td>\n      <td>NaN</td>\n      <td>R</td>\n      <td>NaN</td>\n      <td>200007</td>\n      <td>CRO</td>\n      <td>Silvija Talaja</td>\n      <td>23.0</td>\n      <td>...</td>\n      <td>R</td>\n      <td>182.0</td>\n      <td>200008.0</td>\n      <td>AUS</td>\n      <td>Alicia Molik</td>\n      <td>116.0</td>\n      <td>245.0</td>\n      <td>NaN</td>\n      <td>2000.0</td>\n      <td>NaN</td>\n    </tr>\n    <tr>\n      <th>4</th>\n      <td>3</td>\n      <td>128</td>\n      <td>24.821355</td>\n      <td>NaN</td>\n      <td>R</td>\n      <td>NaN</td>\n      <td>200010</td>\n      <td>ITA</td>\n      <td>Rita Grande</td>\n      <td>60.0</td>\n      <td>...</td>\n      <td>R</td>\n      <td>165.0</td>\n      <td>200009.0</td>\n      <td>THA</td>\n      <td>Tamarine Tanasugarn</td>\n      <td>72.0</td>\n      <td>439.0</td>\n      <td>NaN</td>\n      <td>2000.0</td>\n      <td>NaN</td>\n    </tr>\n  </tbody>\n</table>\n<p>5 rows × 33 columns</p>\n</div>",
      "text/plain": "   best_of  draw_size  loser_age loser_entry loser_hand  loser_ht  loser_id  \\\n0        3        128  17.859001         NaN          R       NaN    200002   \n1        3        128  27.118412           Q          R       NaN    200004   \n2        3        128  31.378508         NaN          R       NaN    200005   \n3        3        128  22.006845         NaN          R       NaN    200007   \n4        3        128  24.821355         NaN          R       NaN    200010   \n\n  loser_ioc             loser_name loser_rank  ...  winner_hand winner_ht  \\\n0       CRO          Mirjana Lucic       49.0  ...            R     170.0   \n1       AUS        Kerry Anne Guse      133.0  ...            R     167.0   \n2       USA  Jolene Watanabe Giltz      118.0  ...            R       NaN   \n3       CRO         Silvija Talaja       23.0  ...            R     182.0   \n4       ITA            Rita Grande       60.0  ...            R     165.0   \n\n   winner_id  winner_ioc          winner_name winner_rank winner_rank_points  \\\n0   200001.0         SUI       Martina Hingis         1.0             6003.0   \n1   200003.0         BEL        Justine Henin        63.0              510.0   \n2   200006.0         SVK     Karina Habsudova        53.0              574.0   \n3   200008.0         AUS         Alicia Molik       116.0              245.0   \n4   200009.0         THA  Tamarine Tanasugarn        72.0              439.0   \n\n  winner_seed    year Unnamed: 32  \n0           1  2000.0         NaN  \n1         NaN  2000.0         NaN  \n2         NaN  2000.0         NaN  \n3         NaN  2000.0         NaN  \n4         NaN  2000.0         NaN  \n\n[5 rows x 33 columns]"
     },
     "execution_count": 4,
     "metadata": {},
     "output_type": "execute_result"
    }
   ],
   "source": [
    "matches.head()"
   ]
  },
  {
   "cell_type": "code",
   "execution_count": null,
   "metadata": {},
   "outputs": [],
   "source": []
  }
 ]
}